{
 "cells": [
  {
   "cell_type": "markdown",
   "metadata": {},
   "source": [
    "# Business Understanding"
   ]
  },
  {
   "cell_type": "markdown",
   "metadata": {},
   "source": [
    "## Loading Libraries and Data"
   ]
  },
  {
   "cell_type": "markdown",
   "metadata": {},
   "source": [
    "Libraries"
   ]
  },
  {
   "cell_type": "code",
   "execution_count": 1,
   "metadata": {},
   "outputs": [
    {
     "name": "stderr",
     "output_type": "stream",
     "text": [
      "[nltk_data] Downloading package punkt to\n",
      "[nltk_data]     C:\\Users\\sousa\\AppData\\Roaming\\nltk_data...\n",
      "[nltk_data]   Package punkt is already up-to-date!\n",
      "[nltk_data] Downloading package stopwords to\n",
      "[nltk_data]     C:\\Users\\sousa\\AppData\\Roaming\\nltk_data...\n",
      "[nltk_data]   Package stopwords is already up-to-date!\n",
      "[nltk_data] Downloading package wordnet to\n",
      "[nltk_data]     C:\\Users\\sousa\\AppData\\Roaming\\nltk_data...\n",
      "[nltk_data]   Package wordnet is already up-to-date!\n"
     ]
    }
   ],
   "source": [
    "import numpy as np\n",
    "import pandas as pd\n",
    "import seaborn as sns\n",
    "from re import sub\n",
    "from decimal import Decimal\n",
    "from matplotlib import pyplot as plt\n",
    "import datetime\n",
    "import pandas as pd\n",
    "import numpy as np\n",
    "from sklearn.feature_extraction.text import CountVectorizer, TfidfVectorizer\n",
    "from nltk import word_tokenize, WordNetLemmatizer\n",
    "from sklearn.model_selection import train_test_split, cross_validate, GridSearchCV\n",
    "from sklearn.model_selection import KFold\n",
    "from sklearn.metrics import mean_squared_error, mean_absolute_error\n",
    "from math import sqrt\n",
    "import tests as t\n",
    "import re\n",
    "import nltk\n",
    "from sklearn.preprocessing import OneHotEncoder\n",
    "from nltk.stem.snowball import SnowballStemmer\n",
    "from nltk.stem.porter import PorterStemmer\n",
    "from nltk.corpus import stopwords\n",
    "nltk.download('punkt')\n",
    "nltk.download('stopwords')\n",
    "nltk.download('wordnet')\n",
    "from xgboost import XGBRegressor\n",
    "from catboost import CatBoostRegressor\n",
    "from sklearn.linear_model import SGDRegressor\n",
    "import folium\n",
    "\n",
    "import collections"
   ]
  },
  {
   "cell_type": "markdown",
   "metadata": {},
   "source": [
    "Data loading\n",
    "\n",
    "All the data loaded in this cell was sourced from here: http://insideairbnb.com/get-the-data.html"
   ]
  },
  {
   "cell_type": "code",
   "execution_count": 2,
   "metadata": {},
   "outputs": [],
   "source": [
    "#Porto related data\n",
    "porto_listings = pd.read_csv(r\"C:\\Users\\sousa\\Desktop\\github\\Airbnb Tale of 2 cities\\Data Portugal\\Porto\\listings.csv\")\n",
    "porto_calendar = pd.read_csv(r\"C:\\Users\\sousa\\Desktop\\github\\Airbnb Tale of 2 cities\\Data Portugal\\Porto\\calendar.csv.gz\", compression = 'gzip')\n",
    "porto_neighbourhoods = pd.read_csv(r\"C:\\Users\\sousa\\Desktop\\github\\Airbnb Tale of 2 cities\\Data Portugal\\Porto\\neighbourhoods.csv\")\n",
    "porto_reviews = pd.read_csv(r\"C:\\Users\\sousa\\Desktop\\github\\Airbnb Tale of 2 cities\\Data Portugal\\Porto\\reviews.csv\")\n",
    "\n",
    "#Lisbon related data\n",
    "lisbon_listings = pd.read_csv(r\"C:\\Users\\sousa\\Desktop\\github\\Airbnb Tale of 2 cities\\Data Portugal\\Lisbon\\listings.csv\")\n",
    "lisbon_calendar = pd.read_csv(r\"C:\\Users\\sousa\\Desktop\\github\\Airbnb Tale of 2 cities\\Data Portugal\\Lisbon\\calendar.csv.gz\", compression = 'gzip')\n",
    "lisbon_neighbourhoods = pd.read_csv(r\"C:\\Users\\sousa\\Desktop\\github\\Airbnb Tale of 2 cities\\Data Portugal\\Lisbon\\neighbourhoods.csv\")\n",
    "lisbon_reviews = pd.read_csv(r\"C:\\Users\\sousa\\Desktop\\github\\Airbnb Tale of 2 cities\\Data Portugal\\Lisbon\\reviews.csv\")"
   ]
  },
  {
   "cell_type": "markdown",
   "metadata": {},
   "source": [
    "### Cleanup and EDA"
   ]
  },
  {
   "cell_type": "markdown",
   "metadata": {},
   "source": [
    "Since I will be comparing Porto to Lisbon one of the first things to check is if they have exactly the same columns on their dataframes."
   ]
  },
  {
   "cell_type": "code",
   "execution_count": 3,
   "metadata": {},
   "outputs": [],
   "source": [
    "def column_checker(porto_df, lisbon_df):\n",
    "    '''\n",
    "    Takes in 2 dataframes and checks if attributes match between the 2 dataframes \n",
    "    Args: any 2 dataframes \n",
    "    prints True or False if the dataframes match or not and which values are different\n",
    "    '''\n",
    "    porto_column_list = porto_df.columns.values\n",
    "    lisbon_column_list = lisbon_df.columns.values\n",
    "    \n",
    "    equal = collections.Counter(porto_column_list) == collections.Counter(lisbon_column_list)\n",
    "    \n",
    "    print('The two tested dataframes are balanced: ', equal)\n",
    "    \n",
    "    if equal == False:\n",
    "        print('The Porto df differs from Lisbon on the following columns: ')\n",
    "        print(set(porto_column_list) - set(lisbon_column_list))\n",
    "        \n",
    "        print('The Lisbon df differs from the Porto df on the following colums: ')\n",
    "        print(set(lisbon_column_list) - set(porto_column_list))"
   ]
  },
  {
   "cell_type": "code",
   "execution_count": 4,
   "metadata": {},
   "outputs": [
    {
     "name": "stdout",
     "output_type": "stream",
     "text": [
      "The two tested dataframes are balanced:  True\n"
     ]
    }
   ],
   "source": [
    "#checking column balance between listings\n",
    "column_checker(porto_listings, lisbon_listings)"
   ]
  },
  {
   "cell_type": "code",
   "execution_count": 5,
   "metadata": {},
   "outputs": [
    {
     "name": "stdout",
     "output_type": "stream",
     "text": [
      "The two tested dataframes are balanced:  True\n"
     ]
    }
   ],
   "source": [
    "#checking column balance between calendar\n",
    "column_checker(porto_calendar, lisbon_calendar)"
   ]
  },
  {
   "cell_type": "code",
   "execution_count": 6,
   "metadata": {},
   "outputs": [
    {
     "name": "stdout",
     "output_type": "stream",
     "text": [
      "The two tested dataframes are balanced:  True\n"
     ]
    }
   ],
   "source": [
    "#checking column balance between neighbourhoods\n",
    "column_checker(porto_neighbourhoods, lisbon_neighbourhoods)"
   ]
  },
  {
   "cell_type": "code",
   "execution_count": 7,
   "metadata": {},
   "outputs": [
    {
     "name": "stdout",
     "output_type": "stream",
     "text": [
      "The two tested dataframes are balanced:  True\n"
     ]
    }
   ],
   "source": [
    "#checking column balance between reviews\n",
    "column_checker(porto_reviews, lisbon_reviews)"
   ]
  },
  {
   "cell_type": "code",
   "execution_count": 8,
   "metadata": {},
   "outputs": [
    {
     "name": "stdout",
     "output_type": "stream",
     "text": [
      "(11656, 16)\n",
      "(25056, 16)\n",
      "(4254440, 7)\n",
      "(9145440, 7)\n",
      "(501193, 2)\n",
      "(1033354, 2)\n",
      "(173, 2)\n",
      "(134, 2)\n"
     ]
    }
   ],
   "source": [
    "#chekcing the shape of the dfs:\n",
    "print(porto_listings.shape)\n",
    "print(lisbon_listings.shape)\n",
    "print(porto_calendar.shape)\n",
    "print(lisbon_calendar.shape)\n",
    "print(porto_reviews.shape)\n",
    "print(lisbon_reviews.shape)\n",
    "print(porto_neighbourhoods.shape)\n",
    "print(lisbon_neighbourhoods.shape)"
   ]
  },
  {
   "cell_type": "markdown",
   "metadata": {},
   "source": [
    "The neighbourhoods dfs have information that is repeated in the listings df. So I will drop their usage from here on."
   ]
  },
  {
   "cell_type": "markdown",
   "metadata": {},
   "source": [
    "All the dataframes have the same columns which is great, no information needs to be dropped"
   ]
  },
  {
   "cell_type": "markdown",
   "metadata": {},
   "source": [
    "Checking column data types"
   ]
  },
  {
   "cell_type": "code",
   "execution_count": 9,
   "metadata": {},
   "outputs": [
    {
     "data": {
      "text/plain": [
       "id                                  int64\n",
       "name                               object\n",
       "host_id                             int64\n",
       "host_name                          object\n",
       "neighbourhood_group                object\n",
       "neighbourhood                      object\n",
       "latitude                          float64\n",
       "longitude                         float64\n",
       "room_type                          object\n",
       "price                               int64\n",
       "minimum_nights                      int64\n",
       "number_of_reviews                   int64\n",
       "last_review                        object\n",
       "reviews_per_month                 float64\n",
       "calculated_host_listings_count      int64\n",
       "availability_365                    int64\n",
       "dtype: object"
      ]
     },
     "execution_count": 9,
     "metadata": {},
     "output_type": "execute_result"
    }
   ],
   "source": [
    "porto_listings.dtypes"
   ]
  },
  {
   "cell_type": "code",
   "execution_count": 10,
   "metadata": {},
   "outputs": [
    {
     "data": {
      "text/plain": [
       "listing_id         int64\n",
       "date              object\n",
       "available         object\n",
       "price             object\n",
       "adjusted_price    object\n",
       "minimum_nights     int64\n",
       "maximum_nights     int64\n",
       "dtype: object"
      ]
     },
     "execution_count": 10,
     "metadata": {},
     "output_type": "execute_result"
    }
   ],
   "source": [
    "porto_calendar.dtypes"
   ]
  },
  {
   "cell_type": "code",
   "execution_count": 11,
   "metadata": {},
   "outputs": [
    {
     "data": {
      "text/plain": [
       "neighbourhood_group    object\n",
       "neighbourhood          object\n",
       "dtype: object"
      ]
     },
     "execution_count": 11,
     "metadata": {},
     "output_type": "execute_result"
    }
   ],
   "source": [
    "porto_neighbourhoods.dtypes"
   ]
  },
  {
   "cell_type": "code",
   "execution_count": 12,
   "metadata": {},
   "outputs": [
    {
     "data": {
      "text/plain": [
       "listing_id     int64\n",
       "date          object\n",
       "dtype: object"
      ]
     },
     "execution_count": 12,
     "metadata": {},
     "output_type": "execute_result"
    }
   ],
   "source": [
    "porto_reviews.dtypes"
   ]
  },
  {
   "cell_type": "markdown",
   "metadata": {},
   "source": [
    "There are some columns with date and time data that need to be converted to floats and datetime formats, but it also seems like there is no difference between price and adjusted price in the calendar dataframe"
   ]
  },
  {
   "cell_type": "code",
   "execution_count": 13,
   "metadata": {},
   "outputs": [
    {
     "data": {
      "text/plain": [
       "False"
      ]
     },
     "execution_count": 13,
     "metadata": {},
     "output_type": "execute_result"
    }
   ],
   "source": [
    "#checking if there is a difference between price and adjusted_price\n",
    "porto_calendar['price'].equals(porto_calendar['adjusted_price'])"
   ]
  },
  {
   "cell_type": "code",
   "execution_count": 14,
   "metadata": {},
   "outputs": [
    {
     "data": {
      "text/plain": [
       "False"
      ]
     },
     "execution_count": 14,
     "metadata": {},
     "output_type": "execute_result"
    }
   ],
   "source": [
    "lisbon_calendar['price'].equals(lisbon_calendar['adjusted_price'])"
   ]
  },
  {
   "cell_type": "markdown",
   "metadata": {},
   "source": [
    "There seems to be a difference between them so I will keep both"
   ]
  },
  {
   "cell_type": "code",
   "execution_count": 15,
   "metadata": {},
   "outputs": [],
   "source": [
    "def dtype_fixer(df, df_type):\n",
    "    '''\n",
    "    Takes in a dataframe and changes the datatypes of the specified columns \n",
    "    Args: a dataframe and the type of data it corresponds to\n",
    "    Returns: dataframe with intended datatypes on the specified columns\n",
    "    '''\n",
    "    \n",
    "    if df_type == 'calendar':\n",
    "        \n",
    "        #getting rid of the dollar sign \n",
    "        df['price'] = df['price'].str.replace('$', '')\n",
    "        df['adjusted_price'] = df['adjusted_price'].str.replace('$', '')\n",
    "\n",
    "        #cast object to float\n",
    "        df['price'] = pd.to_numeric(df['price'],errors='coerce')\n",
    "        df['adjusted_price'] = pd.to_numeric(df['adjusted_price'],errors='coerce')\n",
    "    \n",
    "        #convert datetime to date\n",
    "        df['date'] = pd.to_datetime(df['date'])\n",
    "        \n",
    "    if df_type == 'listings':\n",
    "        df['last_review'] = pd.to_datetime(df['last_review'])\n",
    "    \n",
    "    return df"
   ]
  },
  {
   "cell_type": "code",
   "execution_count": 16,
   "metadata": {},
   "outputs": [
    {
     "data": {
      "text/html": [
       "<div>\n",
       "<style scoped>\n",
       "    .dataframe tbody tr th:only-of-type {\n",
       "        vertical-align: middle;\n",
       "    }\n",
       "\n",
       "    .dataframe tbody tr th {\n",
       "        vertical-align: top;\n",
       "    }\n",
       "\n",
       "    .dataframe thead th {\n",
       "        text-align: right;\n",
       "    }\n",
       "</style>\n",
       "<table border=\"1\" class=\"dataframe\">\n",
       "  <thead>\n",
       "    <tr style=\"text-align: right;\">\n",
       "      <th></th>\n",
       "      <th>id</th>\n",
       "      <th>name</th>\n",
       "      <th>host_id</th>\n",
       "      <th>host_name</th>\n",
       "      <th>neighbourhood_group</th>\n",
       "      <th>neighbourhood</th>\n",
       "      <th>latitude</th>\n",
       "      <th>longitude</th>\n",
       "      <th>room_type</th>\n",
       "      <th>price</th>\n",
       "      <th>minimum_nights</th>\n",
       "      <th>number_of_reviews</th>\n",
       "      <th>last_review</th>\n",
       "      <th>reviews_per_month</th>\n",
       "      <th>calculated_host_listings_count</th>\n",
       "      <th>availability_365</th>\n",
       "    </tr>\n",
       "  </thead>\n",
       "  <tbody>\n",
       "    <tr>\n",
       "      <td>0</td>\n",
       "      <td>6499</td>\n",
       "      <td>Belém 1 Bedroom Historical Apartment</td>\n",
       "      <td>14455</td>\n",
       "      <td>Bruno</td>\n",
       "      <td>Lisboa</td>\n",
       "      <td>Belm</td>\n",
       "      <td>38.69675</td>\n",
       "      <td>-9.19840</td>\n",
       "      <td>Entire home/apt</td>\n",
       "      <td>36</td>\n",
       "      <td>3</td>\n",
       "      <td>25</td>\n",
       "      <td>2019-11-05</td>\n",
       "      <td>0.39</td>\n",
       "      <td>1</td>\n",
       "      <td>0</td>\n",
       "    </tr>\n",
       "    <tr>\n",
       "      <td>1</td>\n",
       "      <td>25659</td>\n",
       "      <td>Sunny,  Alfama  Sleeps 3 - Coeur d'Alfama</td>\n",
       "      <td>107347</td>\n",
       "      <td>Ellie</td>\n",
       "      <td>Lisboa</td>\n",
       "      <td>Santa Maria Maior</td>\n",
       "      <td>38.71167</td>\n",
       "      <td>-9.12696</td>\n",
       "      <td>Entire home/apt</td>\n",
       "      <td>60</td>\n",
       "      <td>3</td>\n",
       "      <td>112</td>\n",
       "      <td>2019-11-08</td>\n",
       "      <td>1.64</td>\n",
       "      <td>1</td>\n",
       "      <td>331</td>\n",
       "    </tr>\n",
       "    <tr>\n",
       "      <td>2</td>\n",
       "      <td>28066</td>\n",
       "      <td>ear the birds</td>\n",
       "      <td>120855</td>\n",
       "      <td>Lucia</td>\n",
       "      <td>Azambuja</td>\n",
       "      <td>Aveiras de Cima</td>\n",
       "      <td>39.14654</td>\n",
       "      <td>-8.91503</td>\n",
       "      <td>Private room</td>\n",
       "      <td>53</td>\n",
       "      <td>1</td>\n",
       "      <td>0</td>\n",
       "      <td>NaT</td>\n",
       "      <td>NaN</td>\n",
       "      <td>1</td>\n",
       "      <td>365</td>\n",
       "    </tr>\n",
       "    <tr>\n",
       "      <td>3</td>\n",
       "      <td>29138</td>\n",
       "      <td>Room for rent in shared house</td>\n",
       "      <td>125304</td>\n",
       "      <td>Susana</td>\n",
       "      <td>Lisboa</td>\n",
       "      <td>Areeiro</td>\n",
       "      <td>38.73634</td>\n",
       "      <td>-9.13792</td>\n",
       "      <td>Private room</td>\n",
       "      <td>71</td>\n",
       "      <td>1</td>\n",
       "      <td>0</td>\n",
       "      <td>NaT</td>\n",
       "      <td>NaN</td>\n",
       "      <td>1</td>\n",
       "      <td>365</td>\n",
       "    </tr>\n",
       "    <tr>\n",
       "      <td>4</td>\n",
       "      <td>29248</td>\n",
       "      <td>Apartamento Alfama com vista para o rio!</td>\n",
       "      <td>125768</td>\n",
       "      <td>Bárbara</td>\n",
       "      <td>Lisboa</td>\n",
       "      <td>Santa Maria Maior</td>\n",
       "      <td>38.71272</td>\n",
       "      <td>-9.12628</td>\n",
       "      <td>Entire home/apt</td>\n",
       "      <td>60</td>\n",
       "      <td>3</td>\n",
       "      <td>319</td>\n",
       "      <td>2019-10-29</td>\n",
       "      <td>2.94</td>\n",
       "      <td>1</td>\n",
       "      <td>365</td>\n",
       "    </tr>\n",
       "    <tr>\n",
       "      <td>...</td>\n",
       "      <td>...</td>\n",
       "      <td>...</td>\n",
       "      <td>...</td>\n",
       "      <td>...</td>\n",
       "      <td>...</td>\n",
       "      <td>...</td>\n",
       "      <td>...</td>\n",
       "      <td>...</td>\n",
       "      <td>...</td>\n",
       "      <td>...</td>\n",
       "      <td>...</td>\n",
       "      <td>...</td>\n",
       "      <td>...</td>\n",
       "      <td>...</td>\n",
       "      <td>...</td>\n",
       "      <td>...</td>\n",
       "    </tr>\n",
       "    <tr>\n",
       "      <td>25051</td>\n",
       "      <td>40420286</td>\n",
       "      <td>Up Up &amp; a Bay</td>\n",
       "      <td>4972896</td>\n",
       "      <td>Rita Morais</td>\n",
       "      <td>Cascais</td>\n",
       "      <td>Cascais e Estoril</td>\n",
       "      <td>38.70160</td>\n",
       "      <td>-9.38394</td>\n",
       "      <td>Entire home/apt</td>\n",
       "      <td>75</td>\n",
       "      <td>1</td>\n",
       "      <td>0</td>\n",
       "      <td>NaT</td>\n",
       "      <td>NaN</td>\n",
       "      <td>38</td>\n",
       "      <td>353</td>\n",
       "    </tr>\n",
       "    <tr>\n",
       "      <td>25052</td>\n",
       "      <td>40420363</td>\n",
       "      <td>From Estoril topfloor watching the Bay</td>\n",
       "      <td>4972896</td>\n",
       "      <td>Rita Morais</td>\n",
       "      <td>Cascais</td>\n",
       "      <td>Cascais e Estoril</td>\n",
       "      <td>38.70160</td>\n",
       "      <td>-9.38394</td>\n",
       "      <td>Entire home/apt</td>\n",
       "      <td>79</td>\n",
       "      <td>1</td>\n",
       "      <td>0</td>\n",
       "      <td>NaT</td>\n",
       "      <td>NaN</td>\n",
       "      <td>38</td>\n",
       "      <td>353</td>\n",
       "    </tr>\n",
       "    <tr>\n",
       "      <td>25053</td>\n",
       "      <td>40420871</td>\n",
       "      <td>Spinel Bronze Apartment, Marques de Pombal, Li...</td>\n",
       "      <td>1969293</td>\n",
       "      <td>Tiago</td>\n",
       "      <td>Lisboa</td>\n",
       "      <td>Arroios</td>\n",
       "      <td>38.72640</td>\n",
       "      <td>-9.14130</td>\n",
       "      <td>Entire home/apt</td>\n",
       "      <td>165</td>\n",
       "      <td>2</td>\n",
       "      <td>0</td>\n",
       "      <td>NaT</td>\n",
       "      <td>NaN</td>\n",
       "      <td>55</td>\n",
       "      <td>346</td>\n",
       "    </tr>\n",
       "    <tr>\n",
       "      <td>25054</td>\n",
       "      <td>40422791</td>\n",
       "      <td>Graça Cosy Apartment with terrace</td>\n",
       "      <td>175257972</td>\n",
       "      <td>Ana Rita</td>\n",
       "      <td>Lisboa</td>\n",
       "      <td>So Vicente</td>\n",
       "      <td>38.71806</td>\n",
       "      <td>-9.12514</td>\n",
       "      <td>Entire home/apt</td>\n",
       "      <td>60</td>\n",
       "      <td>2</td>\n",
       "      <td>0</td>\n",
       "      <td>NaT</td>\n",
       "      <td>NaN</td>\n",
       "      <td>7</td>\n",
       "      <td>165</td>\n",
       "    </tr>\n",
       "    <tr>\n",
       "      <td>25055</td>\n",
       "      <td>40426699</td>\n",
       "      <td>Camila leite</td>\n",
       "      <td>303067737</td>\n",
       "      <td>Camila</td>\n",
       "      <td>Lisboa</td>\n",
       "      <td>Areeiro</td>\n",
       "      <td>38.74199</td>\n",
       "      <td>-9.12379</td>\n",
       "      <td>Entire home/apt</td>\n",
       "      <td>85</td>\n",
       "      <td>1</td>\n",
       "      <td>0</td>\n",
       "      <td>NaT</td>\n",
       "      <td>NaN</td>\n",
       "      <td>1</td>\n",
       "      <td>347</td>\n",
       "    </tr>\n",
       "  </tbody>\n",
       "</table>\n",
       "<p>25056 rows × 16 columns</p>\n",
       "</div>"
      ],
      "text/plain": [
       "             id                                               name    host_id  \\\n",
       "0          6499               Belém 1 Bedroom Historical Apartment      14455   \n",
       "1         25659          Sunny,  Alfama  Sleeps 3 - Coeur d'Alfama     107347   \n",
       "2         28066                                      ear the birds     120855   \n",
       "3         29138                      Room for rent in shared house     125304   \n",
       "4         29248           Apartamento Alfama com vista para o rio!     125768   \n",
       "...         ...                                                ...        ...   \n",
       "25051  40420286                                      Up Up & a Bay    4972896   \n",
       "25052  40420363             From Estoril topfloor watching the Bay    4972896   \n",
       "25053  40420871  Spinel Bronze Apartment, Marques de Pombal, Li...    1969293   \n",
       "25054  40422791                  Graça Cosy Apartment with terrace  175257972   \n",
       "25055  40426699                                       Camila leite  303067737   \n",
       "\n",
       "         host_name neighbourhood_group      neighbourhood  latitude  \\\n",
       "0            Bruno              Lisboa               Belm  38.69675   \n",
       "1            Ellie              Lisboa  Santa Maria Maior  38.71167   \n",
       "2            Lucia            Azambuja    Aveiras de Cima  39.14654   \n",
       "3           Susana              Lisboa            Areeiro  38.73634   \n",
       "4          Bárbara              Lisboa  Santa Maria Maior  38.71272   \n",
       "...            ...                 ...                ...       ...   \n",
       "25051  Rita Morais             Cascais  Cascais e Estoril  38.70160   \n",
       "25052  Rita Morais             Cascais  Cascais e Estoril  38.70160   \n",
       "25053        Tiago              Lisboa            Arroios  38.72640   \n",
       "25054     Ana Rita              Lisboa         So Vicente  38.71806   \n",
       "25055       Camila              Lisboa            Areeiro  38.74199   \n",
       "\n",
       "       longitude        room_type  price  minimum_nights  number_of_reviews  \\\n",
       "0       -9.19840  Entire home/apt     36               3                 25   \n",
       "1       -9.12696  Entire home/apt     60               3                112   \n",
       "2       -8.91503     Private room     53               1                  0   \n",
       "3       -9.13792     Private room     71               1                  0   \n",
       "4       -9.12628  Entire home/apt     60               3                319   \n",
       "...          ...              ...    ...             ...                ...   \n",
       "25051   -9.38394  Entire home/apt     75               1                  0   \n",
       "25052   -9.38394  Entire home/apt     79               1                  0   \n",
       "25053   -9.14130  Entire home/apt    165               2                  0   \n",
       "25054   -9.12514  Entire home/apt     60               2                  0   \n",
       "25055   -9.12379  Entire home/apt     85               1                  0   \n",
       "\n",
       "      last_review  reviews_per_month  calculated_host_listings_count  \\\n",
       "0      2019-11-05               0.39                               1   \n",
       "1      2019-11-08               1.64                               1   \n",
       "2             NaT                NaN                               1   \n",
       "3             NaT                NaN                               1   \n",
       "4      2019-10-29               2.94                               1   \n",
       "...           ...                ...                             ...   \n",
       "25051         NaT                NaN                              38   \n",
       "25052         NaT                NaN                              38   \n",
       "25053         NaT                NaN                              55   \n",
       "25054         NaT                NaN                               7   \n",
       "25055         NaT                NaN                               1   \n",
       "\n",
       "       availability_365  \n",
       "0                     0  \n",
       "1                   331  \n",
       "2                   365  \n",
       "3                   365  \n",
       "4                   365  \n",
       "...                 ...  \n",
       "25051               353  \n",
       "25052               353  \n",
       "25053               346  \n",
       "25054               165  \n",
       "25055               347  \n",
       "\n",
       "[25056 rows x 16 columns]"
      ]
     },
     "execution_count": 16,
     "metadata": {},
     "output_type": "execute_result"
    }
   ],
   "source": [
    "dtype_fixer(porto_calendar, 'calendar')\n",
    "dtype_fixer(lisbon_calendar, 'calendar')\n",
    "dtype_fixer(porto_listings, 'listings')\n",
    "dtype_fixer(lisbon_listings, 'listings')"
   ]
  },
  {
   "cell_type": "markdown",
   "metadata": {},
   "source": [
    "Visualizing missing values"
   ]
  },
  {
   "cell_type": "code",
   "execution_count": 17,
   "metadata": {},
   "outputs": [
    {
     "data": {
      "image/png": "[encoded data removed]",
      "text/plain": [
       "<Figure size 1440x1008 with 6 Axes>"
      ]
     },
     "metadata": {
      "needs_background": "light"
     },
     "output_type": "display_data"
    }
   ],
   "source": [
    "#pyplot is matplotlibs graphing framework, let's use it to make some subplots\n",
    "fig = plt.figure(figsize = (20,14))\n",
    "ax1 = fig.add_subplot(321)\n",
    "ax2 = fig.add_subplot(322)\n",
    "ax3 = fig.add_subplot(323)\n",
    "ax4 = fig.add_subplot(324)\n",
    "ax5 = fig.add_subplot(325)\n",
    "ax6 = fig.add_subplot(326)\n",
    "\n",
    "\n",
    "sns.heatmap(porto_listings.isnull(), yticklabels = False, cbar = False, cmap='viridis', ax = ax1)\n",
    "ax1.set_title('Porto Listings missing values')\n",
    "ax1.set_xticklabels(ax1.get_xticklabels(), rotation = 45, horizontalalignment='right')\n",
    "\n",
    "sns.heatmap(lisbon_listings.isnull(), yticklabels = False, cbar = False, cmap='viridis', ax = ax2)\n",
    "ax2.set_title('Lisbon Listings missing values')\n",
    "ax2.set_xticklabels(ax2.get_xticklabels(), rotation = 45, horizontalalignment='right')\n",
    "\n",
    "sns.heatmap(porto_calendar.isnull(), yticklabels = False, cbar = False, cmap='viridis', ax = ax3)\n",
    "ax3.set_title('Porto Calendar missing values')\n",
    "ax3.set_xticklabels(ax3.get_xticklabels(), rotation = 45, horizontalalignment='right')\n",
    "\n",
    "sns.heatmap(lisbon_calendar.isnull(), yticklabels = False, cbar = False, cmap='viridis', ax = ax4)\n",
    "ax4.set_title('Lisbon Calendar missing values')\n",
    "ax4.set_xticklabels(ax4.get_xticklabels(), rotation = 45, horizontalalignment='right')\n",
    "\n",
    "sns.heatmap(porto_reviews.isnull(), yticklabels = False, cbar = False, cmap='viridis', ax = ax5)\n",
    "ax5.set_title('Porto Reviews missing values')\n",
    "ax5.set_xticklabels(ax5.get_xticklabels(), rotation = 45, horizontalalignment='right')\n",
    "\n",
    "sns.heatmap(lisbon_reviews.isnull(), yticklabels = False, cbar = False, cmap='viridis', ax = ax6)\n",
    "ax6.set_title('Lisbon Reviews missing values')\n",
    "ax6.set_xticklabels(ax6.get_xticklabels(), rotation = 45, horizontalalignment='right')\n",
    "\n",
    "\n",
    "fig.subplots_adjust(top = 1, wspace = 1, hspace = 1)"
   ]
  },
  {
   "cell_type": "code",
   "execution_count": 18,
   "metadata": {},
   "outputs": [],
   "source": [
    "#checking for missing values\n",
    "def missing_checker(df, df_type):\n",
    "    '''\n",
    "    Takes in a dataframe and determines th number of missing values  \n",
    "    Args: a dataframe \n",
    "    Prints: number of missing values\n",
    "    '''\n",
    "    #print('Number of missing values in ' + title + ' is: ')\n",
    "    #print(df.isnull().sum())\n",
    "    \n",
    "    #percentage of missing values\n",
    "    percent_missing = df.isnull().sum()* 100/len(df)\n",
    "    #percent_missing_df = pd.DataFrame({'column_name': df.columns, 'percent_missing': percent_missing})\n",
    "    print('_______________________' + df_type + '_______________________')\n",
    "    print(percent_missing)"
   ]
  },
  {
   "cell_type": "code",
   "execution_count": 19,
   "metadata": {},
   "outputs": [
    {
     "name": "stdout",
     "output_type": "stream",
     "text": [
      "_______________________porto_listings_______________________\n",
      "id                                 0.000000\n",
      "name                               0.017159\n",
      "host_id                            0.000000\n",
      "host_name                          0.300275\n",
      "neighbourhood_group                0.000000\n",
      "neighbourhood                      0.000000\n",
      "latitude                           0.000000\n",
      "longitude                          0.000000\n",
      "room_type                          0.000000\n",
      "price                              0.000000\n",
      "minimum_nights                     0.000000\n",
      "number_of_reviews                  0.000000\n",
      "last_review                       13.375086\n",
      "reviews_per_month                 13.375086\n",
      "calculated_host_listings_count     0.000000\n",
      "availability_365                   0.000000\n",
      "dtype: float64\n"
     ]
    }
   ],
   "source": [
    "missing_checker(porto_listings, 'porto_listings')"
   ]
  },
  {
   "cell_type": "code",
   "execution_count": 20,
   "metadata": {},
   "outputs": [
    {
     "name": "stdout",
     "output_type": "stream",
     "text": [
      "_______________________lisbon_listings_______________________\n",
      "id                                 0.000000\n",
      "name                               0.087803\n",
      "host_id                            0.000000\n",
      "host_name                          0.103768\n",
      "neighbourhood_group                0.000000\n",
      "neighbourhood                      0.000000\n",
      "latitude                           0.000000\n",
      "longitude                          0.000000\n",
      "room_type                          0.000000\n",
      "price                              0.000000\n",
      "minimum_nights                     0.000000\n",
      "number_of_reviews                  0.000000\n",
      "last_review                       14.635217\n",
      "reviews_per_month                 14.635217\n",
      "calculated_host_listings_count     0.000000\n",
      "availability_365                   0.000000\n",
      "dtype: float64\n"
     ]
    }
   ],
   "source": [
    "missing_checker(lisbon_listings, 'lisbon_listings')"
   ]
  },
  {
   "cell_type": "code",
   "execution_count": 21,
   "metadata": {},
   "outputs": [
    {
     "name": "stdout",
     "output_type": "stream",
     "text": [
      "_______________________porto_calendar_______________________\n",
      "listing_id        0.000000\n",
      "date              0.000000\n",
      "available         0.000000\n",
      "price             0.320136\n",
      "adjusted_price    0.318585\n",
      "minimum_nights    0.000000\n",
      "maximum_nights    0.000000\n",
      "dtype: float64\n"
     ]
    }
   ],
   "source": [
    "missing_checker(porto_calendar, 'porto_calendar')"
   ]
  },
  {
   "cell_type": "code",
   "execution_count": 22,
   "metadata": {},
   "outputs": [
    {
     "name": "stdout",
     "output_type": "stream",
     "text": [
      "_______________________lisbon_calendar_______________________\n",
      "listing_id        0.000000\n",
      "date              0.000000\n",
      "available         0.000000\n",
      "price             0.532834\n",
      "adjusted_price    0.531478\n",
      "minimum_nights    0.000000\n",
      "maximum_nights    0.000000\n",
      "dtype: float64\n"
     ]
    }
   ],
   "source": [
    "missing_checker(lisbon_calendar, 'lisbon_calendar')"
   ]
  },
  {
   "cell_type": "code",
   "execution_count": 23,
   "metadata": {},
   "outputs": [
    {
     "name": "stdout",
     "output_type": "stream",
     "text": [
      "_______________________porto_reviews_______________________\n",
      "listing_id    0.0\n",
      "date          0.0\n",
      "dtype: float64\n"
     ]
    }
   ],
   "source": [
    "missing_checker(porto_reviews, 'porto_reviews')"
   ]
  },
  {
   "cell_type": "code",
   "execution_count": 24,
   "metadata": {},
   "outputs": [
    {
     "name": "stdout",
     "output_type": "stream",
     "text": [
      "_______________________lisbon_reviews_______________________\n",
      "listing_id    0.0\n",
      "date          0.0\n",
      "dtype: float64\n"
     ]
    }
   ],
   "source": [
    "missing_checker(lisbon_reviews, 'lisbon_reviews')"
   ]
  },
  {
   "cell_type": "markdown",
   "metadata": {},
   "source": [
    "## Some hosts have multiple listings, which hosts have the greatest number of listings?"
   ]
  },
  {
   "cell_type": "code",
   "execution_count": 25,
   "metadata": {},
   "outputs": [
    {
     "data": {
      "image/png": "[encoded data removed]",
      "text/plain": [
       "<Figure size 1440x1008 with 2 Axes>"
      ]
     },
     "metadata": {
      "needs_background": "light"
     },
     "output_type": "display_data"
    }
   ],
   "source": [
    "fig = plt.figure(figsize = (20,14))\n",
    "ax1 = fig.add_subplot(211)\n",
    "ax2 = fig.add_subplot(212)\n",
    "\n",
    "ax1 = sns.countplot(x = 'host_name', data = porto_listings,\n",
    "                    order = porto_listings.host_name.value_counts().iloc[:20].sort_values(ascending=False).index, ax = ax1)\n",
    "ax1.set_title('Porto top 20 host listing counts')\n",
    "ax1.set_xticklabels(ax1.get_xticklabels(), rotation = 45, horizontalalignment='right')\n",
    "\n",
    "\n",
    "ax2 = sns.countplot(x = 'host_name', data = lisbon_listings,\n",
    "                    order = lisbon_listings.host_name.value_counts().iloc[:20].sort_values(ascending=False).index, ax = ax2)\n",
    "ax2.set_title('Lisbon top 20 host listing counts')\n",
    "ax2.set_xticklabels(ax2.get_xticklabels(), rotation = 45, horizontalalignment='right')\n",
    "\n",
    "fig.subplots_adjust(top = 1, wspace = 1, hspace = 1)"
   ]
  },
  {
   "cell_type": "markdown",
   "metadata": {},
   "source": [
    "Considering how many of these are extremely common portuguese names that can be repeated I will actually use the host_id to make my countplot"
   ]
  },
  {
   "cell_type": "code",
   "execution_count": 31,
   "metadata": {},
   "outputs": [
    {
     "data": {
      "image/png": "[encoded data removed]",
      "text/plain": [
       "<Figure size 1440x1008 with 2 Axes>"
      ]
     },
     "metadata": {
      "needs_background": "light"
     },
     "output_type": "display_data"
    }
   ],
   "source": [
    "fig = plt.figure(figsize = (20,14))\n",
    "ax1 = fig.add_subplot(211)\n",
    "ax2 = fig.add_subplot(212)\n",
    "\n",
    "ax1 = sns.countplot(x = 'host_id', data = porto_listings,\n",
    "                    order = porto_listings.host_id.value_counts().iloc[:20].sort_values(ascending=False).index, ax = ax1)\n",
    "ax1.set_title('Porto top 20 host listing counts by id')\n",
    "ax1.set_xticklabels(ax1.get_xticklabels(), rotation = 45, horizontalalignment='right')\n",
    "\n",
    "\n",
    "ax2 = sns.countplot(x = 'host_id', data = lisbon_listings,\n",
    "                    order = lisbon_listings.host_id.value_counts().iloc[:20].sort_values(ascending=False).index, ax = ax2)\n",
    "ax2.set_title('Lisbon top 20 host listing counts by id')\n",
    "ax2.set_xticklabels(ax2.get_xticklabels(), rotation = 45, horizontalalignment='right')\n",
    "\n",
    "fig.subplots_adjust(top = 1, wspace = 1, hspace = 1)"
   ]
  },
  {
   "cell_type": "code",
   "execution_count": 43,
   "metadata": {},
   "outputs": [
    {
     "data": {
      "text/plain": [
       "host_id    host_name                         \n",
       "30907275   Liiiving                              87\n",
       "3953109    Feels Like Home                       79\n",
       "2228036    Rui                                   68\n",
       "12730028   Host Wise                             63\n",
       "101838501  Porto City Hosts                      54\n",
       "4207615    Oporto City Flats                     52\n",
       "137500257  Loic, Estelle & Co                    48\n",
       "16922131   YourOpo                               47\n",
       "143701949  BmyGuest Short Term Rental - Pedro    40\n",
       "235438978  The Porto                             40\n",
       "2686177    Citybreak                             37\n",
       "19887538   Oporto Rental Management              37\n",
       "153745488  José                                  36\n",
       "92456130   Oporto                                35\n",
       "47191303   Home Me                               33\n",
       "130805492  Marta                                 31\n",
       "71506208   Carolina                              30\n",
       "39551356   Porto Je T'Aime                       29\n",
       "132601835  InSitu                                29\n",
       "49819978   Oporto Guest                          29\n",
       "dtype: int64"
      ]
     },
     "execution_count": 43,
     "metadata": {},
     "output_type": "execute_result"
    }
   ],
   "source": [
    "# which are the names behind these ids?\n",
    "porto_listings.groupby(['host_id', 'host_name']).size().sort_values(ascending=False).nlargest(20)"
   ]
  },
  {
   "cell_type": "code",
   "execution_count": 41,
   "metadata": {},
   "outputs": [
    {
     "data": {
      "text/plain": [
       "host_id    host_name                         \n",
       "3953109    Feels Like Home                       315\n",
       "1756107    Rent Experience                       192\n",
       "104083974  Homing                                176\n",
       "11707167   LxWay                                 111\n",
       "254034856  Francisco                              78\n",
       "37758551   Sweet Inn                              75\n",
       "76223539   BnBird Homes                           73\n",
       "2372087    Albertino                              70\n",
       "140893245  TravelingToLisbon                      67\n",
       "45429583   Lisbon Five Stars Apartments           67\n",
       "22192546   Madalena                               66\n",
       "1549585    ShortStayFlat                          66\n",
       "688914     Luis                                   65\n",
       "137500257  Loic, Estelle & Co                     59\n",
       "143701949  BmyGuest Short Term Rental - Pedro     57\n",
       "1969293    Tiago                                  55\n",
       "178261677  LINC Apartments                        54\n",
       "141121552  Rooms & Experiences Lisboa             52\n",
       "151514128  Lisbon                                 49\n",
       "5039336    Apt In Lisbon                          48\n",
       "dtype: int64"
      ]
     },
     "execution_count": 41,
     "metadata": {},
     "output_type": "execute_result"
    }
   ],
   "source": [
    "# which are the names behind these ids?\n",
    "lisbon_listings.groupby(['host_id', 'host_name']).size().sort_values(ascending=False).nlargest(20)"
   ]
  },
  {
   "cell_type": "markdown",
   "metadata": {},
   "source": [
    "## Based on these names I am assuming they are all high turnover businesses. How do they fare in terms of reviews per month?"
   ]
  },
  {
   "cell_type": "code",
   "execution_count": 60,
   "metadata": {},
   "outputs": [],
   "source": [
    "#sorting based on reviews\n",
    "porto_listings.sort_values(by = 'reviews_per_month', ascending = False, axis = 0, inplace = True)\n",
    "lisbon_listings.sort_values(by = 'reviews_per_month', ascending = False, axis = 0, inplace = True)\n",
    "\n",
    "#and setting up a minimal df for the top listings\n",
    "porto_toprev = porto_listings.head(20)\n",
    "lisbon_toprev = lisbon_listings.head(20)"
   ]
  },
  {
   "cell_type": "code",
   "execution_count": 61,
   "metadata": {},
   "outputs": [
    {
     "data": {
      "image/png": "[encoded data removed]",
      "text/plain": [
       "<Figure size 1440x1008 with 2 Axes>"
      ]
     },
     "metadata": {
      "needs_background": "light"
     },
     "output_type": "display_data"
    }
   ],
   "source": [
    "fig = plt.figure(figsize = (20,14))\n",
    "ax1 = fig.add_subplot(211)\n",
    "ax2 = fig.add_subplot(212)\n",
    "\n",
    "ax1 = sns.barplot(x = 'host_id', y = 'reviews_per_month', data = porto_toprev, ax = ax1)\n",
    "ax1.set_title('Porto top 20 host listing counts by id')\n",
    "ax1.set_xticklabels(ax1.get_xticklabels(), rotation = 45, horizontalalignment='right')\n",
    "\n",
    "\n",
    "ax2 = sns.barplot(x = 'host_id', y = 'reviews_per_month', data = lisbon_toprev, ax = ax2)\n",
    "ax2.set_title('Lisbon top 20 host listing counts by id')\n",
    "ax2.set_xticklabels(ax2.get_xticklabels(), rotation = 45, horizontalalignment='right')\n",
    "\n",
    "fig.subplots_adjust(top = 1, wspace = 1, hspace = 1)"
   ]
  },
  {
   "cell_type": "code",
   "execution_count": 63,
   "metadata": {},
   "outputs": [
    {
     "data": {
      "text/plain": [
       "6649                 Helena\n",
       "10524     Stanislav & Julia\n",
       "7841                   Joao\n",
       "4734     Maria Rosa Pereira\n",
       "10525     Stanislav & Julia\n",
       "10793                 Fábio\n",
       "2772                 Marina\n",
       "8589                  Tiago\n",
       "7901                   José\n",
       "2976                 Helena\n",
       "8001                   José\n",
       "9576                  Tiago\n",
       "7979           Ana & Daniel\n",
       "10389                 Paulo\n",
       "10683          Ana & Daniel\n",
       "734                   Mario\n",
       "8694         Weekend Method\n",
       "8377                  Shams\n",
       "8572                 Thiago\n",
       "9322                 Judite\n",
       "Name: host_name, dtype: object"
      ]
     },
     "execution_count": 63,
     "metadata": {},
     "output_type": "execute_result"
    }
   ],
   "source": [
    "porto_toprev.host_name"
   ]
  },
  {
   "cell_type": "code",
   "execution_count": 64,
   "metadata": {},
   "outputs": [
    {
     "data": {
      "text/plain": [
       "20287                 Paulo\n",
       "15070       Andropov & Sara\n",
       "17766                 Ruben\n",
       "10163    Bairro Alto Suites\n",
       "8398       Rosana And Pedro\n",
       "12346            Rita&Vasco\n",
       "18585          José Augusto\n",
       "24282                  Sali\n",
       "23848                   Rui\n",
       "2696                António\n",
       "15640       Andropov & Sara\n",
       "6330                   João\n",
       "6146                   João\n",
       "11465        Maria Da Graça\n",
       "15309                 Diogo\n",
       "17199        Luis & Gustavo\n",
       "1125                  Andre\n",
       "5469                   Joao\n",
       "6671                   João\n",
       "12225               Alberto\n",
       "Name: host_name, dtype: object"
      ]
     },
     "execution_count": 64,
     "metadata": {},
     "output_type": "execute_result"
    }
   ],
   "source": [
    "lisbon_toprev.host_name"
   ]
  },
  {
   "cell_type": "markdown",
   "metadata": {},
   "source": [
    "Well it seems like quantity is not quality, the listings with the most reviews per month do not match the hosts with the biggest number of listings."
   ]
  },
  {
   "cell_type": "markdown",
   "metadata": {},
   "source": [
    "In general it seems like there is very little data missing.\n",
    "I am not a fan of getting rid of data as it dilutes the diversity of information we have in the dataset.\n",
    "I will try to do some imputation on the missing values and create an extra column as an indicator of the places that required imputation."
   ]
  },
  {
   "cell_type": "code",
   "execution_count": null,
   "metadata": {},
   "outputs": [],
   "source": [
    "#to help with the next steps I will extract a list of all the columns that have missing values and need to be dealt with\n",
    "print('_______________________porto_listings missing list_______________________')\n",
    "print(porto_listings.columns[porto_listings.isna().any()].tolist())\n",
    "\n",
    "print('_______________________lisbon_listings missing list_______________________')\n",
    "print(lisbon_listings.columns[lisbon_listings.isna().any()].tolist())\n",
    "\n",
    "print('_______________________porto_calendar missing list_______________________')\n",
    "print(porto_calendar.columns[porto_calendar.isna().any()].tolist())\n",
    "\n",
    "print('_______________________lisbon_calendar missing list_______________________')\n",
    "print(lisbon_calendar.columns[lisbon_calendar.isna().any()].tolist())"
   ]
  },
  {
   "cell_type": "code",
   "execution_count": null,
   "metadata": {},
   "outputs": [],
   "source": [
    "def missing_values_handler(df, df_type):\n",
    "    '''\n",
    "    Takes in a dataframe and creates a column to keep track of missing values\n",
    "    Also does imputation on some of the missing values\n",
    "    Args: a dataframe and the name of the dataframe\n",
    "    Returns: df without missing values\n",
    "    '''\n",
    "    \n",
    "    if df_type == 'listings':\n",
    "        #creating a column to keep track of rows with missing values using booleans, missing values will be 0\n",
    "        df['host_name_present'] = (~df['host_name'].isnull()).astype(int)\n",
    "        \n",
    "        #the name of the listing itself will not be relevant for the current analysis so I will drop it\n",
    "        #so is the host_name\n",
    "        df.drop(columns = ['name'], inplace = True)\n",
    "        df.drop(columns = ['host_name'], inplace = True)\n",
    "        \n",
    "        #fill NaT with a mock date\n",
    "        df['last_review_present'] = (~df['last_review'].isnull()).astype(int)\n",
    "        date_replace = pd.to_datetime('2019-12-31')\n",
    "        df['last_review'] = df['last_review'].replace({pd.NaT : date_replace})\n",
    "        \n",
    "        #fill the NaNs in the reviews per month after creating column to keep track of changes\n",
    "        df['reviews_p_month_present'] = (~df['reviews_per_month'].isnull()).astype(int)\n",
    "        df['reviews_per_month'] = df['reviews_per_month'].replace({np.nan : 0})\n",
    "        \n",
    "    if df_type == 'calendar':\n",
    "        #the shape of the df demonstrates that it is a 7 figure number of rows show I will just drop\n",
    "        # the under 200 data points missing\n",
    "        df.dropna()\n",
    "        \n",
    "  \n",
    "    return df"
   ]
  },
  {
   "cell_type": "code",
   "execution_count": null,
   "metadata": {},
   "outputs": [],
   "source": [
    "porto_listings_m = missing_values_handler(porto_listings, 'listings')\n",
    "lisbon_listings_m = missing_values_handler(lisbon_listings, 'listings')\n",
    "porto_calendar_m = missing_values_handler(porto_calendar, 'calendar')\n",
    "lisbon_calendar_m = missing_values_handler(lisbon_calendar, 'calendar')"
   ]
  },
  {
   "cell_type": "markdown",
   "metadata": {},
   "source": [
    "## Which are the most popular neighbourhoods in the two cities?"
   ]
  },
  {
   "cell_type": "code",
   "execution_count": null,
   "metadata": {},
   "outputs": [],
   "source": [
    "fig = plt.figure(figsize = (20,14))\n",
    "ax1 = fig.add_subplot(211)\n",
    "ax2 = fig.add_subplot(212)\n",
    "\n",
    "ax1 = sns.countplot(x = 'neighbourhood_group', data = porto_listings_m,\n",
    "                    order = porto_listings_m.neighbourhood_group.value_counts().sort_values(ascending=False).index, ax = ax1)\n",
    "ax1.set_title('Porto Listings accross neighbourhoods')\n",
    "ax1.set_xticklabels(ax1.get_xticklabels(), rotation = 45, horizontalalignment='right')\n",
    "\n",
    "\n",
    "ax2 = sns.countplot(x = 'neighbourhood_group', data = lisbon_listings_m,\n",
    "                    order = lisbon_listings_m.neighbourhood_group.value_counts().sort_values(ascending=False).index, ax = ax2)\n",
    "ax2.set_title('Lisbon Listings accross neighbourhoods')\n",
    "ax2.set_xticklabels(ax2.get_xticklabels(), rotation = 45, horizontalalignment='right')\n",
    "\n",
    "fig.subplots_adjust(top = 1, wspace = 1, hspace = 1)"
   ]
  },
  {
   "cell_type": "code",
   "execution_count": null,
   "metadata": {},
   "outputs": [],
   "source": [
    "fig = plt.figure(figsize = (20,14))\n",
    "ax1 = fig.add_subplot(211)\n",
    "ax2 = fig.add_subplot(212)\n",
    "\n",
    "ax1 = sns.countplot(x = 'neighbourhood', data = porto_listings_m,\n",
    "                    order = porto_listings_m.neighbourhood.value_counts().iloc[:20].sort_values(ascending=False).index, ax = ax1)\n",
    "ax1.set_title('Porto top 20 listings accross neighbourhoods')\n",
    "ax1.set_xticklabels(ax1.get_xticklabels(), rotation = 45, horizontalalignment='right')\n",
    "\n",
    "\n",
    "ax2 = sns.countplot(x = 'neighbourhood', data = lisbon_listings_m,\n",
    "                    order = lisbon_listings_m.neighbourhood.value_counts().iloc[:30].sort_values(ascending=False).index, ax = ax2)\n",
    "ax2.set_title('Lisbon top 30 listings accross neighbourhoods')\n",
    "ax2.set_xticklabels(ax2.get_xticklabels(), rotation = 45, horizontalalignment='right')\n",
    "\n",
    "fig.subplots_adjust(top = 1, wspace = 1, hspace = 1)"
   ]
  },
  {
   "cell_type": "markdown",
   "metadata": {},
   "source": [
    "Time to map-up the most popular listings\n",
    "\n",
    "\n",
    "I will select only the top 1000 listings based on their reviews\n",
    "\n",
    "\n",
    "\n",
    "lisbon coordinates: 38.736946, -9.142685.\n",
    "\n",
    "\n",
    "\n",
    "porto coordinates: 41.14961, -8.61099"
   ]
  },
  {
   "cell_type": "code",
   "execution_count": null,
   "metadata": {},
   "outputs": [],
   "source": [
    "#sorting based on reviews\n",
    "porto_listings_m.sort_values(by = 'number_of_reviews', ascending = False, axis = 0, inplace = True)\n",
    "lisbon_listings_m.sort_values(by = 'number_of_reviews', ascending = False, axis = 0, inplace = True)\n",
    "\n",
    "#and setting up a minimal df for the top listings\n",
    "porto_top1000 = porto_listings_m.head(1000)\n",
    "lisbon_top1000 = lisbon_listings_m.head(1000)"
   ]
  },
  {
   "cell_type": "code",
   "execution_count": null,
   "metadata": {},
   "outputs": [],
   "source": [
    "#creating a base maps\n",
    "lat_l = 38.736946\n",
    "long_l = -9.142685\n",
    "\n",
    "lat_p = 41.14961\n",
    "long_p = -8.61099\n",
    "\n",
    "base_l = folium.Map(location=[lat_l,long_l], zoom_start=12)\n",
    "base_p = folium.Map(location=[lat_p,long_p], zoom_start=12)\n",
    "\n",
    "neighbourhoods = folium.map.FeatureGroup()"
   ]
  },
  {
   "cell_type": "code",
   "execution_count": null,
   "metadata": {},
   "outputs": [],
   "source": [
    "#mapping porto\n",
    "for lati, longi in zip(porto_top1000.longitude, porto_top1000.latitude):\n",
    "    neighbourhoods.add_child(folium.CircleMarker([longi, lati], radius = 2, color = 'blue', fill = True))\n",
    "\n",
    "base_p.add_child(neighbourhoods)"
   ]
  },
  {
   "cell_type": "code",
   "execution_count": null,
   "metadata": {},
   "outputs": [],
   "source": [
    "#mapping lisbon\n",
    "for lati, longi in zip(lisbon_top1000.longitude, lisbon_top1000.latitude):\n",
    "    neighbourhoods.add_child(folium.CircleMarker([longi, lati], radius = 2, color = 'red', fill = True))\n",
    "\n",
    "base_l.add_child(neighbourhoods)"
   ]
  },
  {
   "cell_type": "markdown",
   "metadata": {},
   "source": [
    "## Is there seasonality to the listings prices? "
   ]
  },
  {
   "cell_type": "code",
   "execution_count": null,
   "metadata": {},
   "outputs": [],
   "source": [
    "porto_calendar_m.head()"
   ]
  },
  {
   "cell_type": "code",
   "execution_count": null,
   "metadata": {},
   "outputs": [],
   "source": [
    "#determining the mean values of the listings\n",
    "mean_price_porto = porto_calendar_m.groupby('date').mean()\n",
    "mean_price_lisbon = lisbon_calendar_m.groupby('date').mean()"
   ]
  },
  {
   "cell_type": "code",
   "execution_count": null,
   "metadata": {},
   "outputs": [],
   "source": [
    "fig = plt.figure(figsize=(10,5),dpi=300)\n",
    "ax = fig.add_axes([0,0,1,1])\n",
    "\n",
    "ax.plot(mean_price_porto['price'], label = 'Porto')\n",
    "ax.plot(mean_price_lisbon['price'], label = 'Lisbon')\n",
    "\n",
    "ax.set_title('Listings Mean prices')\n",
    "ax.legend()\n",
    "ax.set_xlabel('Date')\n",
    "ax.set_ylabel('Average Listing Price')"
   ]
  },
  {
   "cell_type": "markdown",
   "metadata": {},
   "source": [
    "There are very clear variations on the prices:\n",
    "* first peak corresponds to NYE\n",
    "* second peak probably corresponds to the 25th of April in Portugal\n",
    "* third peak in porto probably corresponds to Saint John's celebrations/NOS Music festival/F1 Grand Prix"
   ]
  },
  {
   "cell_type": "markdown",
   "metadata": {},
   "source": [
    "Before the next few steps I want to do some feature engineering to improve the status of some of categorical attributes"
   ]
  },
  {
   "cell_type": "markdown",
   "metadata": {},
   "source": [
    "### Feature Engineering"
   ]
  },
  {
   "cell_type": "code",
   "execution_count": null,
   "metadata": {},
   "outputs": [],
   "source": [
    "porto_listings_m.neighbourhood_group.unique()"
   ]
  },
  {
   "cell_type": "code",
   "execution_count": null,
   "metadata": {},
   "outputs": [],
   "source": [
    "porto_listings_m.room_type.unique()"
   ]
  },
  {
   "cell_type": "code",
   "execution_count": null,
   "metadata": {},
   "outputs": [],
   "source": [
    "def enc_and_eng(df, df_type):\n",
    "    '''\n",
    "    Takes in a dataframe and the string corresponding to the df_type and does feature encoding\n",
    "    Args: a dataframe and the name of the dataframe\n",
    "    Returns: df with encoded features\n",
    "    '''\n",
    "    if df_type == 'listings':\n",
    "        #creating a list of the categorical features I want to get dummies for\n",
    "        cat_features = ['neighbourhood_group', 'neighbourhood']\n",
    "        #getting dummies\n",
    "        df = pd.get_dummies(df, columns = cat_features, prefix = cat_features, drop_first = True)\n",
    "        \n",
    "        #creating a dictionary for the replacements in room types\n",
    "        room_types = {'Entire home/apt' : 1, 'Private room' : 2, 'Hotel room' : 3, 'Shared room' : 4}\n",
    "        df['room_type'] = df['room_type'].map(room_types)\n",
    "        \n",
    "    if df_type == 'calendar':\n",
    "        #replacing the t and f in the available column with booleans\n",
    "        available_type = {'f' : 0, 't' : 1}\n",
    "        df['available'] = df['available'].map(available_type)\n",
    "        \n",
    "    return df"
   ]
  },
  {
   "cell_type": "code",
   "execution_count": null,
   "metadata": {},
   "outputs": [],
   "source": [
    "porto_listings_c = enc_and_eng(porto_listings_m, 'listings')\n",
    "lisbon_listings_c = enc_and_eng(lisbon_listings_m, 'listings')\n",
    "porto_calendar_c = enc_and_eng(porto_calendar_m, 'calendar')\n",
    "lisbon_calendar_c = enc_and_eng(lisbon_calendar_m, 'calendar')"
   ]
  },
  {
   "cell_type": "code",
   "execution_count": null,
   "metadata": {},
   "outputs": [],
   "source": [
    "porto_listings_c.head()"
   ]
  },
  {
   "cell_type": "code",
   "execution_count": null,
   "metadata": {},
   "outputs": [],
   "source": [
    "porto_calendar_c.head()"
   ]
  },
  {
   "cell_type": "markdown",
   "metadata": {},
   "source": [
    "### How does the availability of the properties looks like throughout the dates present in the dataset?"
   ]
  },
  {
   "cell_type": "code",
   "execution_count": null,
   "metadata": {},
   "outputs": [],
   "source": []
  },
  {
   "cell_type": "code",
   "execution_count": null,
   "metadata": {},
   "outputs": [],
   "source": [
    "fig = plt.figure(figsize=(10,5),dpi=300)\n",
    "\n",
    "ax = fig.add_axes([0,0,1,1])\n",
    "ax.hist(lisbon_calendar_c.groupby('listing_id').mean()['available'],bins=10,alpha=0.5, label='Lisbon', color='#ff7f0e')\n",
    "ax.hist(porto_calendar_c.groupby('listing_id').mean()['available'],bins=10,alpha=0.5, label='Porto')\n",
    "ax.legend()\n",
    "ax.set_xlabel('Proportion of Days Available')\n",
    "ax.set_ylabel('Listings counts')\n"
   ]
  },
  {
   "cell_type": "code",
   "execution_count": null,
   "metadata": {},
   "outputs": [],
   "source": [
    "print('______________' + 'Porto availability at any given time' + '______________')\n",
    "print('______________________', str(porto_calendar_c['available'].mean()*100), '_______________________')\n",
    "print('______________' + 'Lisbon availability at any given time' + '_____________')\n",
    "print('______________________', str(lisbon_calendar_c['available'].mean()*100), '______________________')"
   ]
  },
  {
   "cell_type": "markdown",
   "metadata": {},
   "source": [
    "It looks like there is a group of 'undesirables' that spend most of their time on airbnb completely available. curious if in the end we will discover why.\n",
    "Other than that these are good news for travelers, you have a high chance to always find a place to stay."
   ]
  },
  {
   "cell_type": "code",
   "execution_count": null,
   "metadata": {},
   "outputs": [],
   "source": []
  },
  {
   "cell_type": "code",
   "execution_count": null,
   "metadata": {},
   "outputs": [],
   "source": []
  },
  {
   "cell_type": "code",
   "execution_count": null,
   "metadata": {},
   "outputs": [],
   "source": []
  }
 ],
 "metadata": {
  "kernelspec": {
   "display_name": "Python 3",
   "language": "python",
   "name": "python3"
  },
  "language_info": {
   "codemirror_mode": {
    "name": "ipython",
    "version": 3
   },
   "file_extension": ".py",
   "mimetype": "text/x-python",
   "name": "python",
   "nbconvert_exporter": "python",
   "pygments_lexer": "ipython3",
   "version": "3.7.4"
  }
 },
 "nbformat": 4,
 "nbformat_minor": 2
}

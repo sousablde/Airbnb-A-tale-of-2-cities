{
 "cells": [
  {
   "cell_type": "markdown",
   "metadata": {},
   "source": [
    "# Business Understanding"
   ]
  },
  {
   "cell_type": "markdown",
   "metadata": {},
   "source": [
    "## Loading Libraries and Data"
   ]
  },
  {
   "cell_type": "markdown",
   "metadata": {},
   "source": [
    "Libraries"
   ]
  },
  {
   "cell_type": "code",
   "execution_count": 1,
   "metadata": {},
   "outputs": [
    {
     "name": "stderr",
     "output_type": "stream",
     "text": [
      "[nltk_data] Downloading package punkt to\n",
      "[nltk_data]     C:\\Users\\sousa\\AppData\\Roaming\\nltk_data...\n",
      "[nltk_data]   Package punkt is already up-to-date!\n",
      "[nltk_data] Downloading package stopwords to\n",
      "[nltk_data]     C:\\Users\\sousa\\AppData\\Roaming\\nltk_data...\n",
      "[nltk_data]   Package stopwords is already up-to-date!\n",
      "[nltk_data] Downloading package wordnet to\n",
      "[nltk_data]     C:\\Users\\sousa\\AppData\\Roaming\\nltk_data...\n",
      "[nltk_data]   Package wordnet is already up-to-date!\n"
     ]
    }
   ],
   "source": [
    "import numpy as np\n",
    "import pandas as pd\n",
    "import seaborn as sns\n",
    "from re import sub\n",
    "from decimal import Decimal\n",
    "from matplotlib import pyplot as plt\n",
    "import datetime\n",
    "import pandas as pd\n",
    "import numpy as np\n",
    "from sklearn.feature_extraction.text import CountVectorizer, TfidfVectorizer\n",
    "from nltk import word_tokenize, WordNetLemmatizer\n",
    "from sklearn.model_selection import train_test_split, cross_validate, GridSearchCV\n",
    "from sklearn.model_selection import KFold\n",
    "from sklearn.metrics import mean_squared_error, mean_absolute_error\n",
    "from math import sqrt\n",
    "import tests as t\n",
    "import re\n",
    "import nltk\n",
    "from sklearn.preprocessing import OneHotEncoder\n",
    "from nltk.stem.snowball import SnowballStemmer\n",
    "from nltk.stem.porter import PorterStemmer\n",
    "from nltk.corpus import stopwords\n",
    "nltk.download('punkt')\n",
    "nltk.download('stopwords')\n",
    "nltk.download('wordnet')\n",
    "from xgboost import XGBRegressor\n",
    "from catboost import CatBoostRegressor\n",
    "from sklearn.linear_model import SGDRegressor\n",
    "\n",
    "import collections"
   ]
  },
  {
   "cell_type": "markdown",
   "metadata": {},
   "source": [
    "Data loading\n",
    "\n",
    "All the data loaded in this cell was sourced from here: http://insideairbnb.com/get-the-data.html"
   ]
  },
  {
   "cell_type": "code",
   "execution_count": 2,
   "metadata": {},
   "outputs": [],
   "source": [
    "#Porto related data\n",
    "porto_listings = pd.read_csv(r\"C:\\Users\\sousa\\Desktop\\github\\Airbnb Tale of 2 cities\\Data Portugal\\Porto\\listings.csv\")\n",
    "porto_calendar = pd.read_csv(r\"C:\\Users\\sousa\\Desktop\\github\\Airbnb Tale of 2 cities\\Data Portugal\\Porto\\calendar.csv.gz\", compression = 'gzip')\n",
    "porto_neighbourhoods = pd.read_csv(r\"C:\\Users\\sousa\\Desktop\\github\\Airbnb Tale of 2 cities\\Data Portugal\\Porto\\neighbourhoods.csv\")\n",
    "porto_reviews = pd.read_csv(r\"C:\\Users\\sousa\\Desktop\\github\\Airbnb Tale of 2 cities\\Data Portugal\\Porto\\reviews.csv\")\n",
    "\n",
    "#Lisbon related data\n",
    "lisbon_listings = pd.read_csv(r\"C:\\Users\\sousa\\Desktop\\github\\Airbnb Tale of 2 cities\\Data Portugal\\Lisbon\\listings.csv\")\n",
    "lisbon_calendar = pd.read_csv(r\"C:\\Users\\sousa\\Desktop\\github\\Airbnb Tale of 2 cities\\Data Portugal\\Lisbon\\calendar.csv.gz\", compression = 'gzip')\n",
    "lisbon_neighbourhoods = pd.read_csv(r\"C:\\Users\\sousa\\Desktop\\github\\Airbnb Tale of 2 cities\\Data Portugal\\Lisbon\\neighbourhoods.csv\")\n",
    "lisbon_reviews = pd.read_csv(r\"C:\\Users\\sousa\\Desktop\\github\\Airbnb Tale of 2 cities\\Data Portugal\\Lisbon\\reviews.csv\")"
   ]
  },
  {
   "cell_type": "markdown",
   "metadata": {},
   "source": [
    "### Cleanup and EDA"
   ]
  },
  {
   "cell_type": "markdown",
   "metadata": {},
   "source": [
    "Since I will be comparing Porto to Lisbon one of the first things to check is if they have exactly the same columns on their dataframes."
   ]
  },
  {
   "cell_type": "code",
   "execution_count": 3,
   "metadata": {},
   "outputs": [],
   "source": [
    "def column_checker(porto_df, lisbon_df):\n",
    "    '''\n",
    "    Takes in 2 dataframes and checks if attributes match between the 2 dataframes \n",
    "    Args: any 2 dataframes \n",
    "    prints True or False if the dataframes match or not and which values are different\n",
    "    '''\n",
    "    porto_column_list = porto_df.columns.values\n",
    "    lisbon_column_list = lisbon_df.columns.values\n",
    "    \n",
    "    equal = collections.Counter(porto_column_list) == collections.Counter(lisbon_column_list)\n",
    "    \n",
    "    print('The two tested dataframes are balanced: ', equal)\n",
    "    \n",
    "    if equal == False:\n",
    "        print('The Porto df differs from Lisbon on the following columns: ')\n",
    "        print(set(porto_column_list) - set(lisbon_column_list))\n",
    "        \n",
    "        print('The Lisbon df differs from the Porto df on the following colums: ')\n",
    "        print(set(lisbon_column_list) - set(porto_column_list))"
   ]
  },
  {
   "cell_type": "code",
   "execution_count": 4,
   "metadata": {},
   "outputs": [
    {
     "name": "stdout",
     "output_type": "stream",
     "text": [
      "The two tested dataframes are balanced:  True\n"
     ]
    }
   ],
   "source": [
    "#checking column balance between listings\n",
    "column_checker(porto_listings, lisbon_listings)"
   ]
  },
  {
   "cell_type": "code",
   "execution_count": 5,
   "metadata": {},
   "outputs": [
    {
     "name": "stdout",
     "output_type": "stream",
     "text": [
      "The two tested dataframes are balanced:  True\n"
     ]
    }
   ],
   "source": [
    "#checking column balance between calendar\n",
    "column_checker(porto_calendar, lisbon_calendar)"
   ]
  },
  {
   "cell_type": "code",
   "execution_count": 6,
   "metadata": {},
   "outputs": [
    {
     "name": "stdout",
     "output_type": "stream",
     "text": [
      "The two tested dataframes are balanced:  True\n"
     ]
    }
   ],
   "source": [
    "#checking column balance between neighbourhoods\n",
    "column_checker(porto_neighbourhoods, lisbon_neighbourhoods)"
   ]
  },
  {
   "cell_type": "code",
   "execution_count": 7,
   "metadata": {},
   "outputs": [
    {
     "name": "stdout",
     "output_type": "stream",
     "text": [
      "The two tested dataframes are balanced:  True\n"
     ]
    }
   ],
   "source": [
    "#checking column balance between reviews\n",
    "column_checker(porto_reviews, lisbon_reviews)"
   ]
  },
  {
   "cell_type": "markdown",
   "metadata": {},
   "source": [
    "All the dataframes have the same columns which is great, no information needs to be dropped"
   ]
  },
  {
   "cell_type": "markdown",
   "metadata": {},
   "source": [
    "Checking column data types"
   ]
  },
  {
   "cell_type": "code",
   "execution_count": 8,
   "metadata": {},
   "outputs": [
    {
     "data": {
      "text/plain": [
       "id                                  int64\n",
       "name                               object\n",
       "host_id                             int64\n",
       "host_name                          object\n",
       "neighbourhood_group                object\n",
       "neighbourhood                      object\n",
       "latitude                          float64\n",
       "longitude                         float64\n",
       "room_type                          object\n",
       "price                               int64\n",
       "minimum_nights                      int64\n",
       "number_of_reviews                   int64\n",
       "last_review                        object\n",
       "reviews_per_month                 float64\n",
       "calculated_host_listings_count      int64\n",
       "availability_365                    int64\n",
       "dtype: object"
      ]
     },
     "execution_count": 8,
     "metadata": {},
     "output_type": "execute_result"
    }
   ],
   "source": [
    "porto_listings.dtypes"
   ]
  },
  {
   "cell_type": "code",
   "execution_count": 9,
   "metadata": {},
   "outputs": [
    {
     "data": {
      "text/plain": [
       "listing_id         int64\n",
       "date              object\n",
       "available         object\n",
       "price             object\n",
       "adjusted_price    object\n",
       "minimum_nights     int64\n",
       "maximum_nights     int64\n",
       "dtype: object"
      ]
     },
     "execution_count": 9,
     "metadata": {},
     "output_type": "execute_result"
    }
   ],
   "source": [
    "porto_calendar.dtypes"
   ]
  },
  {
   "cell_type": "code",
   "execution_count": 10,
   "metadata": {},
   "outputs": [
    {
     "data": {
      "text/plain": [
       "neighbourhood_group    object\n",
       "neighbourhood          object\n",
       "dtype: object"
      ]
     },
     "execution_count": 10,
     "metadata": {},
     "output_type": "execute_result"
    }
   ],
   "source": [
    "porto_neighbourhoods.dtypes"
   ]
  },
  {
   "cell_type": "code",
   "execution_count": 11,
   "metadata": {},
   "outputs": [
    {
     "data": {
      "text/plain": [
       "listing_id     int64\n",
       "date          object\n",
       "dtype: object"
      ]
     },
     "execution_count": 11,
     "metadata": {},
     "output_type": "execute_result"
    }
   ],
   "source": [
    "porto_reviews.dtypes"
   ]
  },
  {
   "cell_type": "markdown",
   "metadata": {},
   "source": [
    "There are some columns with date and time data that need to be converted to floats and datetime formats, but it also seems like there is no difference between price and adjusted price in the calendar dataframe"
   ]
  },
  {
   "cell_type": "code",
   "execution_count": 12,
   "metadata": {},
   "outputs": [
    {
     "data": {
      "text/plain": [
       "False"
      ]
     },
     "execution_count": 12,
     "metadata": {},
     "output_type": "execute_result"
    }
   ],
   "source": [
    "#checking if there is a difference between price and adjusted_price\n",
    "porto_calendar['price'].equals(porto_calendar['adjusted_price'])"
   ]
  },
  {
   "cell_type": "code",
   "execution_count": 13,
   "metadata": {},
   "outputs": [
    {
     "data": {
      "text/plain": [
       "False"
      ]
     },
     "execution_count": 13,
     "metadata": {},
     "output_type": "execute_result"
    }
   ],
   "source": [
    "lisbon_calendar['price'].equals(lisbon_calendar['adjusted_price'])"
   ]
  },
  {
   "cell_type": "markdown",
   "metadata": {},
   "source": [
    "There seems to be a difference between them so I will keep both"
   ]
  },
  {
   "cell_type": "code",
   "execution_count": 22,
   "metadata": {},
   "outputs": [],
   "source": [
    "def dtype_fixer(df_calendar, df_type):\n",
    "    '''\n",
    "    Takes in a dataframe and changes the datatypes of the specified columns \n",
    "    Args: any 2 dataframes \n",
    "    prints True or False if the dataframes match or not and which values are different\n",
    "    '''\n",
    "    \n",
    "    if df_type == 'calendar':\n",
    "        \n",
    "        #getting rid of the dollar sign \n",
    "        df['price'] = df['price'].str.replace('$', '')\n",
    "        df['adjusted_price'] = df['adjusted_price'].str.replace('$', '')\n",
    "\n",
    "        #cast object to float\n",
    "        df['price'] = pd.to_numeric(df['price'],errors='coerce')\n",
    "        df['adjusted_price'] = pd.to_numeric(df['adjusted_price'],errors='coerce')\n",
    "    \n",
    "        #convert datetime to date\n",
    "        df['date'] = pd.to_datetime(df['date'])\n",
    "        \n",
    "    if df_type == 'listings':\n",
    "        df['last_review'] = pd.to_datetime(df['last_review'])\n",
    "    \n",
    "    return df"
   ]
  },
  {
   "cell_type": "code",
   "execution_count": 17,
   "metadata": {},
   "outputs": [
    {
     "data": {
      "text/html": [
       "<div>\n",
       "<style scoped>\n",
       "    .dataframe tbody tr th:only-of-type {\n",
       "        vertical-align: middle;\n",
       "    }\n",
       "\n",
       "    .dataframe tbody tr th {\n",
       "        vertical-align: top;\n",
       "    }\n",
       "\n",
       "    .dataframe thead th {\n",
       "        text-align: right;\n",
       "    }\n",
       "</style>\n",
       "<table border=\"1\" class=\"dataframe\">\n",
       "  <thead>\n",
       "    <tr style=\"text-align: right;\">\n",
       "      <th></th>\n",
       "      <th>listing_id</th>\n",
       "      <th>date</th>\n",
       "      <th>available</th>\n",
       "      <th>price</th>\n",
       "      <th>adjusted_price</th>\n",
       "      <th>minimum_nights</th>\n",
       "      <th>maximum_nights</th>\n",
       "    </tr>\n",
       "  </thead>\n",
       "  <tbody>\n",
       "    <tr>\n",
       "      <td>0</td>\n",
       "      <td>41339</td>\n",
       "      <td>2019-11-28</td>\n",
       "      <td>f</td>\n",
       "      <td>55.0</td>\n",
       "      <td>55.0</td>\n",
       "      <td>2</td>\n",
       "      <td>90</td>\n",
       "    </tr>\n",
       "    <tr>\n",
       "      <td>1</td>\n",
       "      <td>147502</td>\n",
       "      <td>2019-11-28</td>\n",
       "      <td>t</td>\n",
       "      <td>42.0</td>\n",
       "      <td>42.0</td>\n",
       "      <td>1</td>\n",
       "      <td>730</td>\n",
       "    </tr>\n",
       "    <tr>\n",
       "      <td>2</td>\n",
       "      <td>147502</td>\n",
       "      <td>2019-11-29</td>\n",
       "      <td>t</td>\n",
       "      <td>42.0</td>\n",
       "      <td>42.0</td>\n",
       "      <td>1</td>\n",
       "      <td>730</td>\n",
       "    </tr>\n",
       "    <tr>\n",
       "      <td>3</td>\n",
       "      <td>147502</td>\n",
       "      <td>2019-11-30</td>\n",
       "      <td>t</td>\n",
       "      <td>42.0</td>\n",
       "      <td>42.0</td>\n",
       "      <td>1</td>\n",
       "      <td>730</td>\n",
       "    </tr>\n",
       "    <tr>\n",
       "      <td>4</td>\n",
       "      <td>147502</td>\n",
       "      <td>2019-12-01</td>\n",
       "      <td>t</td>\n",
       "      <td>42.0</td>\n",
       "      <td>42.0</td>\n",
       "      <td>1</td>\n",
       "      <td>730</td>\n",
       "    </tr>\n",
       "  </tbody>\n",
       "</table>\n",
       "</div>"
      ],
      "text/plain": [
       "   listing_id       date available  price  adjusted_price  minimum_nights  \\\n",
       "0       41339 2019-11-28         f   55.0            55.0               2   \n",
       "1      147502 2019-11-28         t   42.0            42.0               1   \n",
       "2      147502 2019-11-29         t   42.0            42.0               1   \n",
       "3      147502 2019-11-30         t   42.0            42.0               1   \n",
       "4      147502 2019-12-01         t   42.0            42.0               1   \n",
       "\n",
       "   maximum_nights  \n",
       "0              90  \n",
       "1             730  \n",
       "2             730  \n",
       "3             730  \n",
       "4             730  "
      ]
     },
     "execution_count": 17,
     "metadata": {},
     "output_type": "execute_result"
    }
   ],
   "source": [
    "dtype_fixer(porto_calendar, 'calendar')\n",
    "dtype_fixer(lisbon_calendar, 'calendar')\n",
    "dtype_fixer(porto_listings, 'listings')\n",
    "dtype_fixer(lisbon_listings, 'listings')"
   ]
  },
  {
   "cell_type": "code",
   "execution_count": 18,
   "metadata": {},
   "outputs": [
    {
     "data": {
      "text/plain": [
       "listing_id                 int64\n",
       "date              datetime64[ns]\n",
       "available                 object\n",
       "price                    float64\n",
       "adjusted_price           float64\n",
       "minimum_nights             int64\n",
       "maximum_nights             int64\n",
       "dtype: object"
      ]
     },
     "execution_count": 18,
     "metadata": {},
     "output_type": "execute_result"
    }
   ],
   "source": [
    "test_df.dtypes"
   ]
  },
  {
   "cell_type": "code",
   "execution_count": 19,
   "metadata": {},
   "outputs": [
    {
     "data": {
      "text/html": [
       "<div>\n",
       "<style scoped>\n",
       "    .dataframe tbody tr th:only-of-type {\n",
       "        vertical-align: middle;\n",
       "    }\n",
       "\n",
       "    .dataframe tbody tr th {\n",
       "        vertical-align: top;\n",
       "    }\n",
       "\n",
       "    .dataframe thead th {\n",
       "        text-align: right;\n",
       "    }\n",
       "</style>\n",
       "<table border=\"1\" class=\"dataframe\">\n",
       "  <thead>\n",
       "    <tr style=\"text-align: right;\">\n",
       "      <th></th>\n",
       "      <th>id</th>\n",
       "      <th>name</th>\n",
       "      <th>host_id</th>\n",
       "      <th>host_name</th>\n",
       "      <th>neighbourhood_group</th>\n",
       "      <th>neighbourhood</th>\n",
       "      <th>latitude</th>\n",
       "      <th>longitude</th>\n",
       "      <th>room_type</th>\n",
       "      <th>price</th>\n",
       "      <th>minimum_nights</th>\n",
       "      <th>number_of_reviews</th>\n",
       "      <th>last_review</th>\n",
       "      <th>reviews_per_month</th>\n",
       "      <th>calculated_host_listings_count</th>\n",
       "      <th>availability_365</th>\n",
       "    </tr>\n",
       "  </thead>\n",
       "  <tbody>\n",
       "    <tr>\n",
       "      <td>0</td>\n",
       "      <td>41339</td>\n",
       "      <td>Porto city flat near the sea</td>\n",
       "      <td>180050</td>\n",
       "      <td>Paula</td>\n",
       "      <td>PORTO</td>\n",
       "      <td>Lordelo do Ouro e Massarelos</td>\n",
       "      <td>41.14894</td>\n",
       "      <td>-8.66113</td>\n",
       "      <td>Entire home/apt</td>\n",
       "      <td>58</td>\n",
       "      <td>2</td>\n",
       "      <td>17</td>\n",
       "      <td>2018-09-28</td>\n",
       "      <td>0.21</td>\n",
       "      <td>1</td>\n",
       "      <td>210</td>\n",
       "    </tr>\n",
       "    <tr>\n",
       "      <td>1</td>\n",
       "      <td>42462</td>\n",
       "      <td>Large Penthouse in Vila Nova Gaia</td>\n",
       "      <td>185492</td>\n",
       "      <td>Gabriela</td>\n",
       "      <td>VILA NOVA DE GAIA</td>\n",
       "      <td>Mafamude e Vilar do Paraíso</td>\n",
       "      <td>41.10739</td>\n",
       "      <td>-8.59430</td>\n",
       "      <td>Entire home/apt</td>\n",
       "      <td>50</td>\n",
       "      <td>4</td>\n",
       "      <td>39</td>\n",
       "      <td>2018-10-14</td>\n",
       "      <td>0.46</td>\n",
       "      <td>3</td>\n",
       "      <td>31</td>\n",
       "    </tr>\n",
       "    <tr>\n",
       "      <td>2</td>\n",
       "      <td>55111</td>\n",
       "      <td>Fontielas Houses |Floor1 in House with shared ...</td>\n",
       "      <td>259711</td>\n",
       "      <td>Isabel E João</td>\n",
       "      <td>PAREDES</td>\n",
       "      <td>Cete</td>\n",
       "      <td>41.17481</td>\n",
       "      <td>-8.35362</td>\n",
       "      <td>Entire home/apt</td>\n",
       "      <td>66</td>\n",
       "      <td>4</td>\n",
       "      <td>14</td>\n",
       "      <td>2019-09-07</td>\n",
       "      <td>0.26</td>\n",
       "      <td>3</td>\n",
       "      <td>0</td>\n",
       "    </tr>\n",
       "    <tr>\n",
       "      <td>3</td>\n",
       "      <td>70925</td>\n",
       "      <td>APARTMENT WITH THE BEST CITY VIEW</td>\n",
       "      <td>361205</td>\n",
       "      <td>Miguel</td>\n",
       "      <td>VILA NOVA DE GAIA</td>\n",
       "      <td>Santa Marinha e São Pedro da Afurada</td>\n",
       "      <td>41.13810</td>\n",
       "      <td>-8.61108</td>\n",
       "      <td>Entire home/apt</td>\n",
       "      <td>97</td>\n",
       "      <td>4</td>\n",
       "      <td>56</td>\n",
       "      <td>2019-10-17</td>\n",
       "      <td>0.56</td>\n",
       "      <td>2</td>\n",
       "      <td>349</td>\n",
       "    </tr>\n",
       "    <tr>\n",
       "      <td>4</td>\n",
       "      <td>73828</td>\n",
       "      <td>Fontielas Houses |Floor0 in House with shared ...</td>\n",
       "      <td>259711</td>\n",
       "      <td>Isabel E João</td>\n",
       "      <td>PAREDES</td>\n",
       "      <td>Cete</td>\n",
       "      <td>41.17449</td>\n",
       "      <td>-8.35426</td>\n",
       "      <td>Entire home/apt</td>\n",
       "      <td>66</td>\n",
       "      <td>4</td>\n",
       "      <td>8</td>\n",
       "      <td>2019-07-22</td>\n",
       "      <td>0.14</td>\n",
       "      <td>3</td>\n",
       "      <td>0</td>\n",
       "    </tr>\n",
       "  </tbody>\n",
       "</table>\n",
       "</div>"
      ],
      "text/plain": [
       "      id                                               name  host_id  \\\n",
       "0  41339                       Porto city flat near the sea   180050   \n",
       "1  42462                  Large Penthouse in Vila Nova Gaia   185492   \n",
       "2  55111  Fontielas Houses |Floor1 in House with shared ...   259711   \n",
       "3  70925                  APARTMENT WITH THE BEST CITY VIEW   361205   \n",
       "4  73828  Fontielas Houses |Floor0 in House with shared ...   259711   \n",
       "\n",
       "       host_name neighbourhood_group                         neighbourhood  \\\n",
       "0          Paula               PORTO          Lordelo do Ouro e Massarelos   \n",
       "1       Gabriela   VILA NOVA DE GAIA           Mafamude e Vilar do Paraíso   \n",
       "2  Isabel E João             PAREDES                                  Cete   \n",
       "3         Miguel   VILA NOVA DE GAIA  Santa Marinha e São Pedro da Afurada   \n",
       "4  Isabel E João             PAREDES                                  Cete   \n",
       "\n",
       "   latitude  longitude        room_type  price  minimum_nights  \\\n",
       "0  41.14894   -8.66113  Entire home/apt     58               2   \n",
       "1  41.10739   -8.59430  Entire home/apt     50               4   \n",
       "2  41.17481   -8.35362  Entire home/apt     66               4   \n",
       "3  41.13810   -8.61108  Entire home/apt     97               4   \n",
       "4  41.17449   -8.35426  Entire home/apt     66               4   \n",
       "\n",
       "   number_of_reviews last_review  reviews_per_month  \\\n",
       "0                 17  2018-09-28               0.21   \n",
       "1                 39  2018-10-14               0.46   \n",
       "2                 14  2019-09-07               0.26   \n",
       "3                 56  2019-10-17               0.56   \n",
       "4                  8  2019-07-22               0.14   \n",
       "\n",
       "   calculated_host_listings_count  availability_365  \n",
       "0                               1               210  \n",
       "1                               3                31  \n",
       "2                               3                 0  \n",
       "3                               2               349  \n",
       "4                               3                 0  "
      ]
     },
     "execution_count": 19,
     "metadata": {},
     "output_type": "execute_result"
    }
   ],
   "source": [
    "porto_listings.head()"
   ]
  },
  {
   "cell_type": "code",
   "execution_count": 20,
   "metadata": {},
   "outputs": [
    {
     "data": {
      "text/plain": [
       "id                                  int64\n",
       "name                               object\n",
       "host_id                             int64\n",
       "host_name                          object\n",
       "neighbourhood_group                object\n",
       "neighbourhood                      object\n",
       "latitude                          float64\n",
       "longitude                         float64\n",
       "room_type                          object\n",
       "price                               int64\n",
       "minimum_nights                      int64\n",
       "number_of_reviews                   int64\n",
       "last_review                        object\n",
       "reviews_per_month                 float64\n",
       "calculated_host_listings_count      int64\n",
       "availability_365                    int64\n",
       "dtype: object"
      ]
     },
     "execution_count": 20,
     "metadata": {},
     "output_type": "execute_result"
    }
   ],
   "source": [
    "porto_listings.dtypes"
   ]
  },
  {
   "cell_type": "code",
   "execution_count": 21,
   "metadata": {},
   "outputs": [
    {
     "data": {
      "text/html": [
       "<div>\n",
       "<style scoped>\n",
       "    .dataframe tbody tr th:only-of-type {\n",
       "        vertical-align: middle;\n",
       "    }\n",
       "\n",
       "    .dataframe tbody tr th {\n",
       "        vertical-align: top;\n",
       "    }\n",
       "\n",
       "    .dataframe thead th {\n",
       "        text-align: right;\n",
       "    }\n",
       "</style>\n",
       "<table border=\"1\" class=\"dataframe\">\n",
       "  <thead>\n",
       "    <tr style=\"text-align: right;\">\n",
       "      <th></th>\n",
       "      <th>id</th>\n",
       "      <th>name</th>\n",
       "      <th>host_id</th>\n",
       "      <th>host_name</th>\n",
       "      <th>neighbourhood_group</th>\n",
       "      <th>neighbourhood</th>\n",
       "      <th>latitude</th>\n",
       "      <th>longitude</th>\n",
       "      <th>room_type</th>\n",
       "      <th>price</th>\n",
       "      <th>minimum_nights</th>\n",
       "      <th>number_of_reviews</th>\n",
       "      <th>last_review</th>\n",
       "      <th>reviews_per_month</th>\n",
       "      <th>calculated_host_listings_count</th>\n",
       "      <th>availability_365</th>\n",
       "    </tr>\n",
       "  </thead>\n",
       "  <tbody>\n",
       "    <tr>\n",
       "      <td>0</td>\n",
       "      <td>41339</td>\n",
       "      <td>Porto city flat near the sea</td>\n",
       "      <td>180050</td>\n",
       "      <td>Paula</td>\n",
       "      <td>PORTO</td>\n",
       "      <td>Lordelo do Ouro e Massarelos</td>\n",
       "      <td>41.14894</td>\n",
       "      <td>-8.66113</td>\n",
       "      <td>Entire home/apt</td>\n",
       "      <td>58</td>\n",
       "      <td>2</td>\n",
       "      <td>17</td>\n",
       "      <td>2018-09-28</td>\n",
       "      <td>0.21</td>\n",
       "      <td>1</td>\n",
       "      <td>210</td>\n",
       "    </tr>\n",
       "    <tr>\n",
       "      <td>1</td>\n",
       "      <td>42462</td>\n",
       "      <td>Large Penthouse in Vila Nova Gaia</td>\n",
       "      <td>185492</td>\n",
       "      <td>Gabriela</td>\n",
       "      <td>VILA NOVA DE GAIA</td>\n",
       "      <td>Mafamude e Vilar do Paraíso</td>\n",
       "      <td>41.10739</td>\n",
       "      <td>-8.59430</td>\n",
       "      <td>Entire home/apt</td>\n",
       "      <td>50</td>\n",
       "      <td>4</td>\n",
       "      <td>39</td>\n",
       "      <td>2018-10-14</td>\n",
       "      <td>0.46</td>\n",
       "      <td>3</td>\n",
       "      <td>31</td>\n",
       "    </tr>\n",
       "    <tr>\n",
       "      <td>2</td>\n",
       "      <td>55111</td>\n",
       "      <td>Fontielas Houses |Floor1 in House with shared ...</td>\n",
       "      <td>259711</td>\n",
       "      <td>Isabel E João</td>\n",
       "      <td>PAREDES</td>\n",
       "      <td>Cete</td>\n",
       "      <td>41.17481</td>\n",
       "      <td>-8.35362</td>\n",
       "      <td>Entire home/apt</td>\n",
       "      <td>66</td>\n",
       "      <td>4</td>\n",
       "      <td>14</td>\n",
       "      <td>2019-09-07</td>\n",
       "      <td>0.26</td>\n",
       "      <td>3</td>\n",
       "      <td>0</td>\n",
       "    </tr>\n",
       "    <tr>\n",
       "      <td>3</td>\n",
       "      <td>70925</td>\n",
       "      <td>APARTMENT WITH THE BEST CITY VIEW</td>\n",
       "      <td>361205</td>\n",
       "      <td>Miguel</td>\n",
       "      <td>VILA NOVA DE GAIA</td>\n",
       "      <td>Santa Marinha e São Pedro da Afurada</td>\n",
       "      <td>41.13810</td>\n",
       "      <td>-8.61108</td>\n",
       "      <td>Entire home/apt</td>\n",
       "      <td>97</td>\n",
       "      <td>4</td>\n",
       "      <td>56</td>\n",
       "      <td>2019-10-17</td>\n",
       "      <td>0.56</td>\n",
       "      <td>2</td>\n",
       "      <td>349</td>\n",
       "    </tr>\n",
       "    <tr>\n",
       "      <td>4</td>\n",
       "      <td>73828</td>\n",
       "      <td>Fontielas Houses |Floor0 in House with shared ...</td>\n",
       "      <td>259711</td>\n",
       "      <td>Isabel E João</td>\n",
       "      <td>PAREDES</td>\n",
       "      <td>Cete</td>\n",
       "      <td>41.17449</td>\n",
       "      <td>-8.35426</td>\n",
       "      <td>Entire home/apt</td>\n",
       "      <td>66</td>\n",
       "      <td>4</td>\n",
       "      <td>8</td>\n",
       "      <td>2019-07-22</td>\n",
       "      <td>0.14</td>\n",
       "      <td>3</td>\n",
       "      <td>0</td>\n",
       "    </tr>\n",
       "  </tbody>\n",
       "</table>\n",
       "</div>"
      ],
      "text/plain": [
       "      id                                               name  host_id  \\\n",
       "0  41339                       Porto city flat near the sea   180050   \n",
       "1  42462                  Large Penthouse in Vila Nova Gaia   185492   \n",
       "2  55111  Fontielas Houses |Floor1 in House with shared ...   259711   \n",
       "3  70925                  APARTMENT WITH THE BEST CITY VIEW   361205   \n",
       "4  73828  Fontielas Houses |Floor0 in House with shared ...   259711   \n",
       "\n",
       "       host_name neighbourhood_group                         neighbourhood  \\\n",
       "0          Paula               PORTO          Lordelo do Ouro e Massarelos   \n",
       "1       Gabriela   VILA NOVA DE GAIA           Mafamude e Vilar do Paraíso   \n",
       "2  Isabel E João             PAREDES                                  Cete   \n",
       "3         Miguel   VILA NOVA DE GAIA  Santa Marinha e São Pedro da Afurada   \n",
       "4  Isabel E João             PAREDES                                  Cete   \n",
       "\n",
       "   latitude  longitude        room_type  price  minimum_nights  \\\n",
       "0  41.14894   -8.66113  Entire home/apt     58               2   \n",
       "1  41.10739   -8.59430  Entire home/apt     50               4   \n",
       "2  41.17481   -8.35362  Entire home/apt     66               4   \n",
       "3  41.13810   -8.61108  Entire home/apt     97               4   \n",
       "4  41.17449   -8.35426  Entire home/apt     66               4   \n",
       "\n",
       "   number_of_reviews last_review  reviews_per_month  \\\n",
       "0                 17  2018-09-28               0.21   \n",
       "1                 39  2018-10-14               0.46   \n",
       "2                 14  2019-09-07               0.26   \n",
       "3                 56  2019-10-17               0.56   \n",
       "4                  8  2019-07-22               0.14   \n",
       "\n",
       "   calculated_host_listings_count  availability_365  \n",
       "0                               1               210  \n",
       "1                               3                31  \n",
       "2                               3                 0  \n",
       "3                               2               349  \n",
       "4                               3                 0  "
      ]
     },
     "execution_count": 21,
     "metadata": {},
     "output_type": "execute_result"
    }
   ],
   "source": [
    "porto_listings.head()"
   ]
  },
  {
   "cell_type": "code",
   "execution_count": null,
   "metadata": {},
   "outputs": [],
   "source": []
  }
 ],
 "metadata": {
  "kernelspec": {
   "display_name": "Python 3",
   "language": "python",
   "name": "python3"
  },
  "language_info": {
   "codemirror_mode": {
    "name": "ipython",
    "version": 3
   },
   "file_extension": ".py",
   "mimetype": "text/x-python",
   "name": "python",
   "nbconvert_exporter": "python",
   "pygments_lexer": "ipython3",
   "version": "3.7.4"
  }
 },
 "nbformat": 4,
 "nbformat_minor": 2
}
